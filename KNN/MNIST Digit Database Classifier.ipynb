{
 "cells": [
  {
   "cell_type": "markdown",
   "metadata": {},
   "source": [
    "Importing all the required libraries"
   ]
  },
  {
   "cell_type": "code",
   "execution_count": 1,
   "metadata": {},
   "outputs": [],
   "source": [
    "import numpy as np\n",
    "import os\n",
    "import csv\n",
    "import operator\n",
    "import time\n",
    "import pandas as pd\n",
    "import matplotlib.pyplot as plt"
   ]
  },
  {
   "cell_type": "markdown",
   "metadata": {},
   "source": [
    "Loading the dataset"
   ]
  },
  {
   "cell_type": "code",
   "execution_count": 3,
   "metadata": {},
   "outputs": [],
   "source": [
    "os.chdir(r'C:\\Users\\Diksha Menghmalani\\.spyder-py3\\programs_py\\Data Structures')\n",
    "with open('mnist_dataset.csv', newline= '') as csv_file2:\n",
    "    data_lines = csv.reader(csv_file2)\n",
    "    next(data_lines)\n",
    "    dataset = list(data_lines)\n",
    "    matrix = np.array(dataset).astype('int')"
   ]
  },
  {
   "cell_type": "markdown",
   "metadata": {},
   "source": [
    "Splitting the dataset into training and testing"
   ]
  },
  {
   "cell_type": "code",
   "execution_count": 4,
   "metadata": {},
   "outputs": [],
   "source": [
    "np.random.shuffle(matrix)\n",
    "train_matrix, test_matrix = matrix[:8000,:], matrix[8000:,:]"
   ]
  },
  {
   "cell_type": "markdown",
   "metadata": {},
   "source": [
    "Function for calculating the Euclidean Distance"
   ]
  },
  {
   "cell_type": "code",
   "execution_count": 5,
   "metadata": {},
   "outputs": [],
   "source": [
    "def CalculateEuclideanDistance(sample1,sample2):\n",
    "    dist = np.linalg.norm(sample1-sample2)\n",
    "    return dist"
   ]
  },
  {
   "cell_type": "markdown",
   "metadata": {},
   "source": [
    "Function for finding K nearest neighbours"
   ]
  },
  {
   "cell_type": "code",
   "execution_count": 6,
   "metadata": {},
   "outputs": [],
   "source": [
    "def findNeighbours(f_train_matrix,test_data,k):\n",
    "    #mini =  CalculateEuclideanDistance(test_data, f_train_matrix[0,1:785])\n",
    "    neighbours_distances = []\n",
    "    for i in range(len(f_train_matrix)):\n",
    "        distance_i = CalculateEuclideanDistance(test_data, f_train_matrix[i,1:785])\n",
    "        #Contains distance values of test data w.r.t all train matrix rows\n",
    "        neighbours_distances.append((f_train_matrix[i][0],distance_i))\n",
    "   \n",
    "    #Sorting neighbours_distances with ascending order \n",
    "    neighbours_distances.sort(key=operator.itemgetter(1))\n",
    "   \n",
    "    #Choose first \"K\" distances\n",
    "    Final_neighbors = []\n",
    "    for i in range(k):\n",
    "        Final_neighbors.append(neighbours_distances[i][0])\n",
    "    return Final_neighbors"
   ]
  },
  {
   "cell_type": "markdown",
   "metadata": {},
   "source": [
    "Function for finding the best neighbour"
   ]
  },
  {
   "cell_type": "code",
   "execution_count": 7,
   "metadata": {},
   "outputs": [],
   "source": [
    "def findBestNeighbour(find_neighbours):\n",
    "    neighbour_count = {}\n",
    "    #Finding neighbour with maximum occurance\n",
    "    for x in range(len(find_neighbours)):\n",
    "        occurrence =find_neighbours[x]\n",
    "        neighbour_count[occurrence] = neighbour_count.get(occurrence,0)+1\n",
    "    #Select neighbour with maximum occurance in \"find_neighbours\" list       \n",
    "    BestNeighbour = sorted(neighbour_count.items(), key=operator.itemgetter(1), reverse=True)\n",
    "    return BestNeighbour[0][0]"
   ]
  },
  {
   "cell_type": "code",
   "execution_count": 8,
   "metadata": {},
   "outputs": [
    {
     "name": "stdout",
     "output_type": "stream",
     "text": [
      "iteration 0\n",
      "iteration 100\n",
      "iteration 200\n",
      "iteration 300\n",
      "iteration 400\n",
      "iteration 500\n",
      "iteration 600\n",
      "iteration 700\n",
      "iteration 800\n",
      "iteration 900\n",
      "iteration 1000\n",
      "iteration 1100\n",
      "iteration 1200\n",
      "iteration 1300\n",
      "iteration 1400\n",
      "iteration 1500\n",
      "iteration 1600\n",
      "iteration 1700\n",
      "iteration 1800\n",
      "iteration 1900\n"
     ]
    },
    {
     "data": {
      "image/png": "[encoded data removed]",
      "text/plain": [
       "<Figure size 720x720 with 16 Axes>"
      ]
     },
     "metadata": {},
     "output_type": "display_data"
    },
    {
     "name": "stdout",
     "output_type": "stream",
     "text": [
      "Accuracy: 95.45%\n",
      "Time Elasped:  351.1568441390991 seconds\n"
     ]
    }
   ],
   "source": [
    "plt.figure(figsize=(10, 10))\n",
    "true_positives = 0\n",
    "k=1\n",
    "j = 0\n",
    "start_time = time.time()\n",
    "for i in range(len(test_matrix)):\n",
    "    #finding k neighbours\n",
    "        find_neighbours=findNeighbours(train_matrix,test_matrix[i,1:785],k)\n",
    "        #Finding the best neighbour among all \n",
    "        best = findBestNeighbour(find_neighbours)\n",
    "        if(test_matrix[i,0] == best):\n",
    "            true_positives += 1\n",
    "        if(i%100 == 0):\n",
    "            print('iteration', i)\n",
    "            #print('Actual Number is:' + repr(test_matrix[i,0])+' Predicted Number is:' + repr(best))\n",
    "            if(j<16):\n",
    "                plt.subplot(4, 4, j + 1)\n",
    "                j+=1\n",
    "                test_matrix_disp = test_matrix[i][1:]\n",
    "                test_matrix_disp = test_matrix_disp.reshape(28,28)\n",
    "                plt.imshow(test_matrix_disp,'gray')\n",
    "                string = 'Predicted Label'+ str(best)+'\\n'+ 'Actual Label' + str(test_matrix[i,0])\n",
    "                plt.xlabel(string)\n",
    "                plt.xticks([])\n",
    "                plt.yticks([])\n",
    "plt.show()\n",
    "accuracy = (true_positives/float(len(test_matrix))) * 100.0\n",
    "print('Accuracy: ' + repr(accuracy) + '%')\n",
    "print('Time Elasped: ', time.time()-start_time, 'seconds')"
   ]
  },
  {
   "cell_type": "code",
   "execution_count": null,
   "metadata": {},
   "outputs": [],
   "source": []
  }
 ],
 "metadata": {
  "kernelspec": {
   "display_name": "Python 3",
   "language": "python",
   "name": "python3"
  },
  "language_info": {
   "codemirror_mode": {
    "name": "ipython",
    "version": 3
   },
   "file_extension": ".py",
   "mimetype": "text/x-python",
   "name": "python",
   "nbconvert_exporter": "python",
   "pygments_lexer": "ipython3",
   "version": "3.7.6"
  }
 },
 "nbformat": 4,
 "nbformat_minor": 4
}
