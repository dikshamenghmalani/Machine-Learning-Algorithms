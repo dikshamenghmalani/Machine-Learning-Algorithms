{
 "cells": [
  {
   "cell_type": "code",
   "execution_count": 1,
   "metadata": {},
   "outputs": [],
   "source": [
    "import numpy as np\n",
    "import os\n",
    "import csv\n",
    "import operator\n",
    "import time\n",
    "import pandas as pd\n",
    "import matplotlib.pyplot as plt"
   ]
  },
  {
   "cell_type": "code",
   "execution_count": 13,
   "metadata": {},
   "outputs": [],
   "source": [
    "class Perceptron:\n",
    "    \n",
    "    def __init__(self, learning_rate=0.01, iters=1000):\n",
    "        self.lr = learning_rate\n",
    "        self.iters = iters\n",
    "        self.weights = None\n",
    "        self.bias = None\n",
    "        self.w_data = []\n",
    "        self.b_data = []\n",
    "\n",
    "    def fit(self, X, y):\n",
    "        n_samples, n_features = X.shape\n",
    "\n",
    "        self.weights = np.zeros(n_features)\n",
    "        self.bias = 0\n",
    "        for it in range(self.iters):\n",
    "            \n",
    "            for idx, x_i in enumerate(X):\n",
    "\n",
    "                soft_op = np.dot(x_i, self.weights) + self.bias\n",
    "                if soft_op>=0:\n",
    "                    y_predicted = 1\n",
    "                else:\n",
    "                    y_predicted = 0\n",
    "                if it==0:\n",
    "                    self.w_data.append(self.weights)  \n",
    "                    self.b_data.append(self.bias)\n",
    "                    \n",
    "                update = self.lr * (y[idx] - y_predicted)\n",
    "                self.weights += update * x_i\n",
    "                self.bias += update\n",
    "                \n",
    "            self.w_data.append(self.weights)  \n",
    "            self.b_data.append(self.bias)\n",
    "            \n",
    "                                    \n",
    "    \n",
    "    \n",
    "    def get_weights(self):\n",
    "        #print(self.weights,bias)\n",
    "        return self.w_data, self.b_data\n",
    "    \n",
    "    \n",
    "    def plot(self, X,y):\n",
    "        \n",
    "        plt.clf()\n",
    "        plt.scatter(X[:,0],X[:,1],c=y)\n",
    "        x1 = np.linspace(1000,3000,100)\n",
    "        x2 = -(self.weights[0]*x1+self.bias)/self.weights[1]\n",
    "        plt.plot(x1,x2)\n",
    "        #plt.axis('off')\n",
    "        plt.xlim = [1000,3000]\n",
    "        plt.ylim = [1000,3000]\n",
    "        plt.show()"
   ]
  },
  {
   "cell_type": "code",
   "execution_count": 14,
   "metadata": {},
   "outputs": [],
   "source": [
    "os.chdir(r'C:\\Users\\Diksha Menghmalani\\Desktop\\study material\\Diksha_Repository')\n",
    "def get_data():\n",
    "    with open('mnist0_7.csv', newline= '') as csv_file2:\n",
    "        data_lines = csv.reader(csv_file2)\n",
    "        dataset = list(data_lines)\n",
    "        dataset[0][0] = '7'\n",
    "        matrix = np.array(dataset).astype('int')\n",
    "        \n",
    "    no_samples = matrix.shape[0]\n",
    "    lables = np.array([0 for i in range(no_samples)])\n",
    "    for i in range(no_samples):\n",
    "        lables[i] = 0 if matrix[i][0]==0 else 1\n",
    "        \n",
    "    return matrix,lables"
   ]
  },
  {
   "cell_type": "code",
   "execution_count": 15,
   "metadata": {},
   "outputs": [],
   "source": [
    "def calculate_euclidean_distance(sample1,sample2):\n",
    "    dist = np.linalg.norm(sample1-sample2)\n",
    "    return dist"
   ]
  },
  {
   "cell_type": "code",
   "execution_count": 16,
   "metadata": {},
   "outputs": [],
   "source": [
    "X,y =  get_data()"
   ]
  },
  {
   "cell_type": "code",
   "execution_count": 17,
   "metadata": {},
   "outputs": [],
   "source": [
    "ref_0 = X[1][1:]\n",
    "ref_7 = X[0][1:]\n",
    "X = X[2:]\n",
    "y= y[2:]"
   ]
  },
  {
   "cell_type": "code",
   "execution_count": 18,
   "metadata": {},
   "outputs": [],
   "source": [
    "def get_distance(X,y,ref_0,ref_7):\n",
    "    \n",
    "    no_samples = X.shape[0]\n",
    "    distances = np.array([[0,0] for i in range(no_samples)])\n",
    "    \n",
    "    for i , val in enumerate(X):\n",
    "        dist_0 = calculate_euclidean_distance(val[1:], ref_0)\n",
    "        dist_7 = calculate_euclidean_distance(val[1:], ref_7)\n",
    "        \n",
    "        distances[i][0] = dist_0\n",
    "        distances[i][1] = dist_7\n",
    "        \n",
    "    return distances"
   ]
  },
  {
   "cell_type": "code",
   "execution_count": 19,
   "metadata": {},
   "outputs": [],
   "source": [
    "distances = get_distance(X,y,ref_0,ref_7)"
   ]
  },
  {
   "cell_type": "code",
   "execution_count": 20,
   "metadata": {},
   "outputs": [
    {
     "data": {
      "text/plain": [
       "<matplotlib.collections.PathCollection at 0x26898a7a3c8>"
      ]
     },
     "execution_count": 20,
     "metadata": {},
     "output_type": "execute_result"
    },
    {
     "data": {
      "image/png": "[encoded data removed]",
      "text/plain": [
       "<Figure size 432x288 with 1 Axes>"
      ]
     },
     "metadata": {
      "needs_background": "light"
     },
     "output_type": "display_data"
    }
   ],
   "source": [
    "plt.scatter(distances[:,0], distances[:,1],c = y)"
   ]
  },
  {
   "cell_type": "code",
   "execution_count": 21,
   "metadata": {},
   "outputs": [],
   "source": [
    "model = Perceptron()"
   ]
  },
  {
   "cell_type": "code",
   "execution_count": 26,
   "metadata": {},
   "outputs": [],
   "source": [
    "model.fit(distances,y)"
   ]
  },
  {
   "cell_type": "code",
   "execution_count": 27,
   "metadata": {},
   "outputs": [
    {
     "data": {
      "image/png": "[encoded data removed]",
      "text/plain": [
       "<Figure size 432x288 with 1 Axes>"
      ]
     },
     "metadata": {
      "needs_background": "light"
     },
     "output_type": "display_data"
    }
   ],
   "source": [
    "model.plot(distances,y)"
   ]
  },
  {
   "cell_type": "code",
   "execution_count": null,
   "metadata": {},
   "outputs": [],
   "source": []
  }
 ],
 "metadata": {
  "kernelspec": {
   "display_name": "Python 3",
   "language": "python",
   "name": "python3"
  },
  "language_info": {
   "codemirror_mode": {
    "name": "ipython",
    "version": 3
   },
   "file_extension": ".py",
   "mimetype": "text/x-python",
   "name": "python",
   "nbconvert_exporter": "python",
   "pygments_lexer": "ipython3",
   "version": "3.7.6"
  }
 },
 "nbformat": 4,
 "nbformat_minor": 4
}
