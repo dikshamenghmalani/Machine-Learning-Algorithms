{
 "cells": [
  {
   "cell_type": "code",
   "execution_count": 3,
   "metadata": {},
   "outputs": [],
   "source": [
    "import numpy as np\n",
    "import os\n",
    "import matplotlib.pyplot as plt\n",
    "from matplotlib.animation import FuncAnimation\n",
    "from sklearn.datasets import make_classification\n",
    "from sklearn.model_selection import train_test_split"
   ]
  },
  {
   "cell_type": "code",
   "execution_count": 4,
   "metadata": {},
   "outputs": [],
   "source": [
    "X = np.array([[-4,2],[-3,-1],[-2,-3],[-2,1],[-2,2],[-1,-2],[-1,1],[0,-3],[1,-1],[2,0],[2,3],[3,1]])\n",
    "y = np.array([-1,-1,1,-1,-1,1,-1,1,1,1,-1,1])\n"
   ]
  },
  {
   "cell_type": "code",
   "execution_count": 5,
   "metadata": {},
   "outputs": [],
   "source": [
    "X, y = make_classification(n_classes=2, n_samples=20, n_features = 2\n",
    "                           ,n_informative=2,n_redundant = 0, \n",
    "                           n_clusters_per_class= 1)\n",
    "y[y==0]=-1"
   ]
  },
  {
   "cell_type": "code",
   "execution_count": 6,
   "metadata": {},
   "outputs": [
    {
     "data": {
      "text/plain": [
       "<matplotlib.collections.PathCollection at 0x232c6a91388>"
      ]
     },
     "execution_count": 6,
     "metadata": {},
     "output_type": "execute_result"
    },
    {
     "data": {
      "image/png": "[encoded data removed]",
      "text/plain": [
       "<Figure size 432x288 with 1 Axes>"
      ]
     },
     "metadata": {
      "needs_background": "light"
     },
     "output_type": "display_data"
    }
   ],
   "source": [
    "\n",
    "plt.scatter(X[:,0],X[:,1],c=y)\n",
    "#plt.axis('off')\n",
    "#plt.savefig(os.getcwd()+\"/im/\"+\"data\"+\".png\")"
   ]
  },
  {
   "cell_type": "code",
   "execution_count": 7,
   "metadata": {},
   "outputs": [],
   "source": [
    "class Perceptron:\n",
    "    \n",
    "    def __init__(self, learning_rate=0.01, iters=40):\n",
    "        self.lr = learning_rate\n",
    "        self.iters = iters\n",
    "        self.weights = None\n",
    "        self.bias = None\n",
    "        self.w_data = []\n",
    "        self.b_data = []\n",
    "        self.correct = []\n",
    "        self.wrong = []\n",
    "\n",
    "    def fit(self, X, y):\n",
    "        n_samples, n_features = X.shape\n",
    "\n",
    "        self.weights = np.zeros(n_features)\n",
    "        self.bias = 0\n",
    "        for it in range(self.iters):\n",
    "            \n",
    "            for idx, x_i in enumerate(X):\n",
    "\n",
    "                soft_op = np.dot(x_i, self.weights) + self.bias\n",
    "                if soft_op>=0:\n",
    "                    y_predicted = 1\n",
    "                else:\n",
    "                    y_predicted = -1\n",
    "            \n",
    "                self.w_data.append(self.weights)  \n",
    "                self.b_data.append(self.bias)\n",
    "                \n",
    "                if y_predicted*y[idx] >0:\n",
    "                    self.correct.append(x_i)\n",
    "                    self.wrong.append([0,0])\n",
    "                else:\n",
    "                    self.wrong.append(x_i)\n",
    "                    self.correct.append([0,0])\n",
    "                \n",
    "                update = self.lr * (y[idx] - y_predicted)\n",
    "                self.weights += update * x_i\n",
    "                self.bias += update\n",
    "                \n",
    "            #print(np.amin(y*np.dot(X, self.weights)))\n",
    "            #if np.amin(y*(np.dot(X, self.weights)+self.bias))>0:\n",
    "            #    break\n",
    "            \n",
    "                                    \n",
    "    \n",
    "    \n",
    "    def get_weights(self):\n",
    "        #print(self.weights,bias)\n",
    "        return self.w_data, self.b_data, self.correct, self.wrong\n",
    "    \n",
    "    \n",
    "    def plot(self, X,y):\n",
    "        \n",
    "        plt.clf()\n",
    "        plt.scatter(X[:,0],X[:,1],c=y)\n",
    "        x1 = np.linspace(-5,5,10)\n",
    "        x2 = -(self.weights[0]*x1+self.bias)/self.weights[1]\n",
    "        plt.plot(x1,x2)\n",
    "        plt.axis('off')\n",
    "        plt.show()"
   ]
  },
  {
   "cell_type": "code",
   "execution_count": 8,
   "metadata": {},
   "outputs": [],
   "source": [
    "model = Perceptron()"
   ]
  },
  {
   "cell_type": "code",
   "execution_count": 9,
   "metadata": {
    "scrolled": true
   },
   "outputs": [],
   "source": [
    "model.fit(X,y)"
   ]
  },
  {
   "cell_type": "code",
   "execution_count": 10,
   "metadata": {},
   "outputs": [
    {
     "data": {
      "image/png": "[encoded data removed]",
      "text/plain": [
       "<Figure size 432x288 with 1 Axes>"
      ]
     },
     "metadata": {
      "needs_background": "light"
     },
     "output_type": "display_data"
    }
   ],
   "source": [
    "model.plot(X,y)"
   ]
  },
  {
   "cell_type": "code",
   "execution_count": 11,
   "metadata": {},
   "outputs": [],
   "source": [
    "w,b,correct, wrong = model.get_weights()"
   ]
  },
  {
   "cell_type": "code",
   "execution_count": 12,
   "metadata": {},
   "outputs": [],
   "source": [
    "\n",
    "w= np.array(w)\n",
    "b= np.array(b)\n",
    "correct = np.array(correct)\n",
    "wrong = np.array(wrong)"
   ]
  },
  {
   "cell_type": "code",
   "execution_count": 13,
   "metadata": {},
   "outputs": [
    {
     "data": {
      "text/plain": [
       "array([-0.03041695,  0.04557774])"
      ]
     },
     "execution_count": 13,
     "metadata": {},
     "output_type": "execute_result"
    }
   ],
   "source": [
    "w[0]\n"
   ]
  },
  {
   "cell_type": "code",
   "execution_count": 14,
   "metadata": {},
   "outputs": [
    {
     "data": {
      "text/plain": [
       "numpy.ndarray"
      ]
     },
     "execution_count": 14,
     "metadata": {},
     "output_type": "execute_result"
    }
   ],
   "source": [
    "type(w)"
   ]
  },
  {
   "cell_type": "code",
   "execution_count": 51,
   "metadata": {},
   "outputs": [
    {
     "name": "stdout",
     "output_type": "stream",
     "text": [
      "Using matplotlib backend: Qt5Agg\n"
     ]
    }
   ],
   "source": [
    "import matplotlib.animation as animation\n",
    "from matplotlib.animation import FuncAnimation\n",
    "%matplotlib\n",
    "fig = plt.figure()\n",
    "ax = plt.axes(xlim=(-5, 5), ylim=(-5, 5))\n",
    "line, = ax.plot([], [], lw=3)\n",
    "line_w, = ax.plot([], [], lw=1, color = 'black')\n",
    "line_correct, = ax.plot([], [], color = 'green')\n",
    "line_wrong, = ax.plot([], [] ,color = 'red')\n",
    "ax.scatter(X[:,0],X[:,1],c=y)\n",
    "ax.axis('off')\n",
    "\n",
    "Writer = animation.writers['ffmpeg']\n",
    "writer = Writer(fps=4,  bitrate=1800)\n",
    "\n",
    "def init():\n",
    "    line.set_data([], [])\n",
    "    line_w.set_data([],[])\n",
    "    line_correct.set_data([], [])\n",
    "    line_wrong.set_data([], [])\n",
    "    return line,line_w, line_correct,line_wrong\n",
    "\n",
    "def animate(i):\n",
    "    x1 = np.array([-5,0,5])\n",
    "    y1 = -(w[i][0]*x1+ b[i])/w[i][1]\n",
    "\n",
    "    x2 = np.array([0-b[i],5])\n",
    "    y2 = ((w[i][1]+b[i])/w[i][0])*x2\n",
    "    \n",
    "    x3 = [0,correct[i][0]]\n",
    "    y3 = [0,correct[i][1]]\n",
    "    \n",
    "    x4 = [0,wrong[i][0]]\n",
    "    y4 = [0,wrong[i][1]]\n",
    "    \n",
    "    line.set_data(x1, y1)\n",
    "    line_w.set_data(x2,y2)\n",
    "    line_correct.set_data(x3, y3)\n",
    "    line_wrong.set_data(x4, y4)\n",
    "    \n",
    "    return line, line_w,line_correct,line_wrong\n",
    "    \n",
    "\n",
    "anim = FuncAnimation(fig, animate, init_func=init,interval = 1000)\n",
    "#plt.colorbar()\n",
    "plt.show()\n",
    "anim.save('animate_perceptron.mp4',fps = 10)"
   ]
  },
  {
   "cell_type": "code",
   "execution_count": null,
   "metadata": {},
   "outputs": [],
   "source": []
  }
 ],
 "metadata": {
  "kernelspec": {
   "display_name": "Python 3",
   "language": "python",
   "name": "python3"
  },
  "language_info": {
   "codemirror_mode": {
    "name": "ipython",
    "version": 3
   },
   "file_extension": ".py",
   "mimetype": "text/x-python",
   "name": "python",
   "nbconvert_exporter": "python",
   "pygments_lexer": "ipython3",
   "version": "3.7.6"
  }
 },
 "nbformat": 4,
 "nbformat_minor": 4
}
