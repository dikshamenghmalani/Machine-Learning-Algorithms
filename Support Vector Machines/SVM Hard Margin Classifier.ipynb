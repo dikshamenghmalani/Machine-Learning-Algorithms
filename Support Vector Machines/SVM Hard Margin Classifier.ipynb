{
 "cells": [
  {
   "cell_type": "code",
   "execution_count": 27,
   "metadata": {},
   "outputs": [],
   "source": [
    "import numpy as np\n",
    "import pandas as pd\n",
    "from matplotlib import pyplot as plt\n",
    "from sklearn.datasets import make_classification\n",
    "from sklearn.model_selection import train_test_split\n",
    "from cvxopt import matrix as cvxopt_matrix\n",
    "from cvxopt import solvers as cvxopt_solvers"
   ]
  },
  {
   "cell_type": "code",
   "execution_count": 67,
   "metadata": {},
   "outputs": [],
   "source": [
    "X, y = make_classification(n_classes=2, n_samples=50, n_features = 2\n",
    "                           ,n_informative=2,n_redundant = 0, \n",
    "                           n_clusters_per_class= 1)\n",
    "\n",
    "y[y==0]=-1"
   ]
  },
  {
   "cell_type": "code",
   "execution_count": 68,
   "metadata": {},
   "outputs": [
    {
     "data": {
      "text/plain": [
       "<matplotlib.collections.PathCollection at 0x1c6b6890e10>"
      ]
     },
     "execution_count": 68,
     "metadata": {},
     "output_type": "execute_result"
    },
    {
     "data": {
      "image/png": "[encoded data removed]",
      "text/plain": [
       "<Figure size 432x288 with 1 Axes>"
      ]
     },
     "metadata": {
      "needs_background": "light"
     },
     "output_type": "display_data"
    }
   ],
   "source": [
    "plt.scatter(X[:,0],X[:,1],c=y)\n"
   ]
  },
  {
   "cell_type": "code",
   "execution_count": 69,
   "metadata": {},
   "outputs": [
    {
     "name": "stdout",
     "output_type": "stream",
     "text": [
      "     pcost       dcost       gap    pres   dres\n",
      " 0: -4.1125e+00 -9.8472e+00  1e+02  1e+01  2e+00\n",
      " 1: -6.9618e+00 -1.0299e+01  5e+01  3e+00  6e-01\n",
      " 2: -5.9234e+00 -7.4078e+00  8e+00  4e-01  8e-02\n",
      " 3: -3.3954e+00 -4.3210e+00  9e-01  1e-15  5e-15\n",
      " 4: -3.7172e+00 -4.3441e+00  6e-01  1e-15  4e-15\n",
      " 5: -4.0415e+00 -4.1435e+00  1e-01  9e-16  1e-15\n",
      " 6: -4.1023e+00 -4.1347e+00  3e-02  1e-15  1e-15\n",
      " 7: -4.1291e+00 -4.1294e+00  3e-04  1e-15  1e-15\n",
      " 8: -4.1294e+00 -4.1294e+00  3e-06  1e-15  1e-15\n",
      "Optimal solution found.\n"
     ]
    }
   ],
   "source": [
    "from cvxopt import matrix as cvxopt_matrix\n",
    "from cvxopt import solvers as cvxopt_solver\n",
    "m,n = X.shape\n",
    "y = y.reshape(-1,1) * 1.\n",
    "X_dash = y * X\n",
    "H = np.dot(X_dash , X_dash.T) * 1.\n",
    "\n",
    "#Converting into cvxopt format\n",
    "P = cvxopt_matrix(H)\n",
    "q = cvxopt_matrix(-np.ones((m, 1)))\n",
    "G = cvxopt_matrix(-np.eye(m))\n",
    "h = cvxopt_matrix(np.zeros(m))\n",
    "A = cvxopt_matrix(y.reshape(1, -1))\n",
    "b = cvxopt_matrix(np.zeros(1))\n",
    "sol = cvxopt_solvers.qp(P, q, G, h, A, b)\n",
    "alphas = np.array(sol['x'])"
   ]
  },
  {
   "cell_type": "code",
   "execution_count": 70,
   "metadata": {},
   "outputs": [
    {
     "name": "stdout",
     "output_type": "stream",
     "text": [
      "Alphas =  [2.07091814 4.12938672 2.05846147]\n",
      "w =  [2.64864817 1.11509678]\n",
      "b =  [2.52125539]\n"
     ]
    }
   ],
   "source": [
    "w = ((y * alphas).T @ X).reshape(-1,1)\n",
    "\n",
    "#Selecting the set of indices S corresponding to non zero parameters\n",
    "S = (alphas > 1e-4).flatten()\n",
    "\n",
    "#Computing b\n",
    "b = y[S] - np.dot(X[S], w)\n",
    "\n",
    "#Display results\n",
    "print('Alphas = ',alphas[alphas > 1e-4])\n",
    "print('w = ', w.flatten())\n",
    "print('b = ', b[0])"
   ]
  },
  {
   "cell_type": "code",
   "execution_count": 71,
   "metadata": {},
   "outputs": [
    {
     "name": "stdout",
     "output_type": "stream",
     "text": [
      "[2.64864817]\n",
      "[1.11509678]\n",
      "(10,)\n",
      "(10,)\n"
     ]
    },
    {
     "data": {
      "text/plain": [
       "[<matplotlib.lines.Line2D at 0x1c6b6902eb8>]"
      ]
     },
     "execution_count": 71,
     "metadata": {},
     "output_type": "execute_result"
    },
    {
     "data": {
      "image/png": "[encoded data removed]",
      "text/plain": [
       "<Figure size 432x288 with 1 Axes>"
      ]
     },
     "metadata": {
      "needs_background": "light"
     },
     "output_type": "display_data"
    }
   ],
   "source": [
    "plt.scatter(X[:,0],X[:,1],c = y)\n",
    "w1 = w[0]\n",
    "w2 = w[1]\n",
    "print(w1)\n",
    "print(w2)\n",
    "x1 = np.linspace(-2,2,10)\n",
    "x2= -(w1*x1+b[0])/w2\n",
    "\n",
    "print(x1.shape)\n",
    "print(x2.shape)\n",
    "plt.plot(x1,x2)"
   ]
  }
 ],
 "metadata": {
  "kernelspec": {
   "display_name": "Python 3",
   "language": "python",
   "name": "python3"
  },
  "language_info": {
   "codemirror_mode": {
    "name": "ipython",
    "version": 3
   },
   "file_extension": ".py",
   "mimetype": "text/x-python",
   "name": "python",
   "nbconvert_exporter": "python",
   "pygments_lexer": "ipython3",
   "version": "3.6.12"
  }
 },
 "nbformat": 4,
 "nbformat_minor": 4
}
